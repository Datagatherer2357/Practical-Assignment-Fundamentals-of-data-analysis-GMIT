{
 "cells": [
  {
   "cell_type": "markdown",
   "metadata": {},
   "source": [
    "\n",
    "<img src=\"https://image.ibb.co/gw4Gen/Index-GMIT.png\" alt=\"Index-GMIT\" border=\"0\">\n",
    "\n",
    "## Practical Assignment: ***Anscombe's quartet dataset***\n",
    "\n",
    "* Assignment for Fundamentals of Data Analytics\n",
    "* Start date: 12-10-2018 End date 11-11-2018\n",
    "________________________________________________________________"
   ]
  },
  {
   "cell_type": "markdown",
   "metadata": {},
   "source": [
    "### Assignment outine and objectives\n",
    "1. Explain the background to the dataset – who created it, when it was created, and\n",
    "any speculation you can find regarding how it might have been created.\n",
    "2. Plot the interesting aspects of the dataset.\n",
    "3. Calculate the descriptive statistics of the variables the dataset.\n",
    "4. Explain why the dataset is interesting, referring to the plots and statistics above.\n",
    "------------------------------------"
   ]
  },
  {
   "cell_type": "markdown",
   "metadata": {},
   "source": [
    "### Background and overview of the dataset\n",
    "\n",
    "#### \"Graphs are essential to good statistical analysis\"\n",
    "\n",
    "Francis Anscombe was an English statistician, who in 1973 published a highly relevant and timeless paper called *Graphs in Statistical Analysis*, which was intended to counter the impression among statisticians that \"numerical calcutions are exact but graphs are rough\" [3]. \n",
    "\n",
    "Anscombe's quartet is a set of four small datasets where each produces almost identical summary statistics (mean, standard deviation, variance and correlations), which could lead most laypersons to infer that the datasets are very similar [1].\n",
    "\n",
    "However, while the statistical properties prove to be near identical, visualizing (plotting) the data reveals instead that the datasets are in fact notably different.\n",
    "\n",
    "Anscombe published this paper in order to demonstrate the importance of plotting data *before* analyzing it, and to show the effect outliers can have on statistical properties [2].\n",
    "\n",
    "---------------------------------------"
   ]
  },
  {
   "cell_type": "markdown",
   "metadata": {},
   "source": [
    "### Opening the dataset\n",
    "\n",
    "* We can open and format the Anscombe dataset in various ways. Below I demonstrate two methods."
   ]
  },
  {
   "cell_type": "code",
   "execution_count": 15,
   "metadata": {},
   "outputs": [
    {
     "name": "stdout",
     "output_type": "stream",
     "text": [
      "    Unnamed: 0  x1  x2  x3  x4     y1    y2     y3     y4\n",
      "0            1  10  10  10   8   8.04  9.14   7.46   6.58\n",
      "1            2   8   8   8   8   6.95  8.14   6.77   5.76\n",
      "2            3  13  13  13   8   7.58  8.74  12.74   7.71\n",
      "3            4   9   9   9   8   8.81  8.77   7.11   8.84\n",
      "4            5  11  11  11   8   8.33  9.26   7.81   8.47\n",
      "5            6  14  14  14   8   9.96  8.10   8.84   7.04\n",
      "6            7   6   6   6   8   7.24  6.13   6.08   5.25\n",
      "7            8   4   4   4  19   4.26  3.10   5.39  12.50\n",
      "8            9  12  12  12   8  10.84  9.13   8.15   5.56\n",
      "9           10   7   7   7   8   4.82  7.26   6.42   7.91\n",
      "10          11   5   5   5   8   5.68  4.74   5.73   6.89\n"
     ]
    }
   ],
   "source": [
    "# Opening the dataset via pandas\n",
    "\n",
    "import pandas as pd\n",
    "dataframe = pd.read_csv(\"anscombe.csv\")\n",
    "print(dataframe)"
   ]
  },
  {
   "cell_type": "code",
   "execution_count": 1,
   "metadata": {},
   "outputs": [
    {
     "name": "stdout",
     "output_type": "stream",
     "text": [
      "           x1     x2     x3     x4     y1     y2     y3     y4\n",
      "     1     10     10     10      8   8.04   9.14   7.46   6.58\n",
      "     2      8      8      8      8   6.95   8.14   6.77   5.76\n",
      "     3     13     13     13      8   7.58   8.74  12.74   7.71\n",
      "     4      9      9      9      8   8.81   8.77   7.11   8.84\n",
      "     5     11     11     11      8   8.33   9.26   7.81   8.47\n",
      "     6     14     14     14      8   9.96    8.1   8.84   7.04\n",
      "     7      6      6      6      8   7.24   6.13   6.08   5.25\n",
      "     8      4      4      4     19   4.26    3.1   5.39   12.5\n",
      "     9     12     12     12      8  10.84   9.13   8.15   5.56\n",
      "    10      7      7      7      8   4.82   7.26   6.42   7.91\n",
      "    11      5      5      5      8   5.68   4.74   5.73   6.89\n"
     ]
    }
   ],
   "source": [
    "# Opening the dataset via the CSV reader\n",
    "\n",
    "import csv\n",
    "f = open(\"anscombe.csv\")\n",
    "csv_f = csv.reader(f)\n",
    "for row in csv_f: # for loop that iterates over dataset rows.\n",
    "    print('{:>6} {:>6} {:>6} {:>6} {:>6} {:>6} {:>6} {:>6} {:>6}'.format(*row)) \n",
    "    # using the format method to allign rows.\n",
    "    # The > symbol right-aligns the rows, (< for left allign). \n",
    "    # The number in the curly braces specifies the column width. \n",
    "    # The curly braces can include a positional argument before the colon (:)"
   ]
  },
  {
   "cell_type": "markdown",
   "metadata": {},
   "source": [
    "## References\n",
    "\n",
    "[1]. Matejka, J., Fitzmaurice, G. (2017).*Same Stats, Different Graphs: Generating Datasets with Varied Appearance and Identical Statistics through Simulated Annealing*. Autodesk Research, Toronto Canada. \n",
    "\n",
    "[2]. Anscombe, F.J. (1973). *Graphs in Statistical Analysis*. The American Statistician 27, 1, 17–21.\n",
    "\n",
    "[3]. (Wikipedia, multiple authors), (2018, October). *Anscombe's quartet*. Retrieved from: https://en.wikipedia.org/wiki/Anscombe%27s_quartet"
   ]
  },
  {
   "cell_type": "code",
   "execution_count": null,
   "metadata": {},
   "outputs": [],
   "source": []
  }
 ],
 "metadata": {
  "kernelspec": {
   "display_name": "Python 3",
   "language": "python",
   "name": "python3"
  },
  "language_info": {
   "codemirror_mode": {
    "name": "ipython",
    "version": 3
   },
   "file_extension": ".py",
   "mimetype": "text/x-python",
   "name": "python",
   "nbconvert_exporter": "python",
   "pygments_lexer": "ipython3",
   "version": "3.6.5"
  }
 },
 "nbformat": 4,
 "nbformat_minor": 2
}
