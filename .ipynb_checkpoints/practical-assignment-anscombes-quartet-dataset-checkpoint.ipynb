{
 "cells": [
  {
   "cell_type": "markdown",
   "metadata": {},
   "source": [
    "\n",
    "<img src=\"https://image.ibb.co/gw4Gen/Index-GMIT.png\" alt=\"Index-GMIT\" border=\"0\">\n",
    "\n",
    "## Practical Assignment: ***Anscombe's quartet dataset***\n",
    "\n",
    "* Assignment for Fundamentals of Data Analytics\n",
    "* Start date: 12-10-2018 End date 11-11-2018\n",
    "________________________________________________________________"
   ]
  },
  {
   "cell_type": "markdown",
   "metadata": {},
   "source": [
    "### Assignment outine and objectives\n",
    "1. Explain the background to the dataset – who created it, when it was created, and\n",
    "any speculation you can find regarding how it might have been created.\n",
    "2. Plot the interesting aspects of the dataset.\n",
    "3. Calculate the descriptive statistics of the variables the dataset.\n",
    "4. Explain why the dataset is interesting, referring to the plots and statistics above.\n",
    "------------------------------------"
   ]
  },
  {
   "cell_type": "markdown",
   "metadata": {},
   "source": [
    "### Background and overview of the dataset\n",
    "\n",
    "#### \"Graphs are essential to good statistical analysis\"\n",
    "\n",
    "Francis Anscombe was an English statistician, who in 1973 published a highly relevant and timeless paper called *Graphs in Statistical Analysis*, which was intended to counter the impression among statisticians that \"numerical calcutions are exact but graphs are rough\" [3]. \n",
    "\n",
    "Anscombe's quartet is a set of four small datasets where each produces almost identical summary statistics (mean, standard deviation, variance and correlations), which could lead most laypersons to infer that the datasets are very similar [1].\n",
    "\n",
    "However, while the statistical properties prove to be near identical, visualizing (plotting) the data reveals instead that the datasets are in fact notably different.\n",
    "\n",
    "Anscombe published this paper in order to demonstrate the importance of plotting data *before* analyzing it, and to show the effect outliers can have on statistical properties [2]. In his paper he makes the astute observation that very little attention is given to plots and that most people avoid making assumptions such as:\n",
    "\n",
    "* Numerical calculations are very precise while graphs are \"rough\".\n",
    "* For any kind of statistical data there exists only one set of calulations which results in an accurate analysis.\n",
    "* And that performing calculations is something of a virtue while looking at the plotted data is \"cheating\" [2].\n",
    "\n",
    "Anscombe asserts that computers should produce *both* calculations and plots and that both must be studied because each will contribute to understanding. Indeed, by looking at the qualities and features of Anscombe's dataset and by understanding his analyses, we can better appreciate his observational stance on the matter.\n",
    "\n",
    "---------------------------------------"
   ]
  },
  {
   "cell_type": "markdown",
   "metadata": {},
   "source": [
    "### Opening the dataset\n",
    "\n",
    "We can open and format the Anscombe dataset in various ways, which display slightly different table formats. Below I demonstrate three methods:"
   ]
  },
  {
   "cell_type": "code",
   "execution_count": 1,
   "metadata": {},
   "outputs": [
    {
     "name": "stdout",
     "output_type": "stream",
     "text": [
      "    Unnamed: 0  x1  x2  x3  x4     y1    y2     y3     y4\n",
      "0            1  10  10  10   8   8.04  9.14   7.46   6.58\n",
      "1            2   8   8   8   8   6.95  8.14   6.77   5.76\n",
      "2            3  13  13  13   8   7.58  8.74  12.74   7.71\n",
      "3            4   9   9   9   8   8.81  8.77   7.11   8.84\n",
      "4            5  11  11  11   8   8.33  9.26   7.81   8.47\n",
      "5            6  14  14  14   8   9.96  8.10   8.84   7.04\n",
      "6            7   6   6   6   8   7.24  6.13   6.08   5.25\n",
      "7            8   4   4   4  19   4.26  3.10   5.39  12.50\n",
      "8            9  12  12  12   8  10.84  9.13   8.15   5.56\n",
      "9           10   7   7   7   8   4.82  7.26   6.42   7.91\n",
      "10          11   5   5   5   8   5.68  4.74   5.73   6.89\n"
     ]
    }
   ],
   "source": [
    "# Opening the dataset via pandas\n",
    "\n",
    "import pandas as pd\n",
    "dataframe = pd.read_csv(\"anscombe.csv\")\n",
    "print(dataframe)"
   ]
  },
  {
   "cell_type": "code",
   "execution_count": 2,
   "metadata": {},
   "outputs": [
    {
     "name": "stdout",
     "output_type": "stream",
     "text": [
      "           x1     x2     x3     x4     y1     y2     y3     y4\n",
      "     1     10     10     10      8   8.04   9.14   7.46   6.58\n",
      "     2      8      8      8      8   6.95   8.14   6.77   5.76\n",
      "     3     13     13     13      8   7.58   8.74  12.74   7.71\n",
      "     4      9      9      9      8   8.81   8.77   7.11   8.84\n",
      "     5     11     11     11      8   8.33   9.26   7.81   8.47\n",
      "     6     14     14     14      8   9.96    8.1   8.84   7.04\n",
      "     7      6      6      6      8   7.24   6.13   6.08   5.25\n",
      "     8      4      4      4     19   4.26    3.1   5.39   12.5\n",
      "     9     12     12     12      8  10.84   9.13   8.15   5.56\n",
      "    10      7      7      7      8   4.82   7.26   6.42   7.91\n",
      "    11      5      5      5      8   5.68   4.74   5.73   6.89\n"
     ]
    }
   ],
   "source": [
    "# Opening the dataset via the CSV reader\n",
    "\n",
    "import csv\n",
    "f = open(\"anscombe.csv\")\n",
    "csv_f = csv.reader(f)\n",
    "for row in csv_f: # for loop that iterates over dataset rows.\n",
    "    print('{:>6} {:>6} {:>6} {:>6} {:>6} {:>6} {:>6} {:>6} {:>6}'.format(*row)) \n",
    "    # using the format method to allign rows.\n",
    "    # The > symbol right-aligns the rows, (< for left allign). \n",
    "    # The number in the curly braces specifies the column width. \n",
    "    # The curly braces can include a positional argument before the colon (:)"
   ]
  },
  {
   "cell_type": "code",
   "execution_count": 2,
   "metadata": {},
   "outputs": [
    {
     "name": "stdout",
     "output_type": "stream",
     "text": [
      "   dataset     x      y\n",
      "0        I  10.0   8.04\n",
      "1        I   8.0   6.95\n",
      "2        I  13.0   7.58\n",
      "3        I   9.0   8.81\n",
      "4        I  11.0   8.33\n",
      "5        I  14.0   9.96\n",
      "6        I   6.0   7.24\n",
      "7        I   4.0   4.26\n",
      "8        I  12.0  10.84\n",
      "9        I   7.0   4.82\n",
      "10       I   5.0   5.68\n",
      "11      II  10.0   9.14\n",
      "12      II   8.0   8.14\n",
      "13      II  13.0   8.74\n",
      "14      II   9.0   8.77\n",
      "15      II  11.0   9.26\n",
      "16      II  14.0   8.10\n",
      "17      II   6.0   6.13\n",
      "18      II   4.0   3.10\n",
      "19      II  12.0   9.13\n",
      "20      II   7.0   7.26\n",
      "21      II   5.0   4.74\n",
      "22     III  10.0   7.46\n",
      "23     III   8.0   6.77\n",
      "24     III  13.0  12.74\n",
      "25     III   9.0   7.11\n",
      "26     III  11.0   7.81\n",
      "27     III  14.0   8.84\n",
      "28     III   6.0   6.08\n",
      "29     III   4.0   5.39\n",
      "30     III  12.0   8.15\n",
      "31     III   7.0   6.42\n",
      "32     III   5.0   5.73\n",
      "33      IV   8.0   6.58\n",
      "34      IV   8.0   5.76\n",
      "35      IV   8.0   7.71\n",
      "36      IV   8.0   8.84\n",
      "37      IV   8.0   8.47\n",
      "38      IV   8.0   7.04\n",
      "39      IV   8.0   5.25\n",
      "40      IV  19.0  12.50\n",
      "41      IV   8.0   5.56\n",
      "42      IV   8.0   7.91\n",
      "43      IV   8.0   6.89\n"
     ]
    }
   ],
   "source": [
    "# Opening the dataset via Seaborn\n",
    "\n",
    "import seaborn as sns\n",
    "import matplotlib.pyplot as plt\n",
    "sns.set(style=\"ticks\")\n",
    "\n",
    "# Load the example dataset for Anscombe's quartet\n",
    "df = sns.load_dataset(\"anscombe\")\n",
    "\n",
    "print(df)"
   ]
  },
  {
   "cell_type": "markdown",
   "metadata": {},
   "source": [
    "With our dataset printed out we can now study it for any peculiarities or interesting features.\n",
    "\n",
    "Rather quickly I noticed a very salient feature of the X variables, which is almost impossible to overlook. Indeed, every row in the X1, X2 and X3 columns are identical, whereas the floats in X4 are very different. "
   ]
  },
  {
   "cell_type": "markdown",
   "metadata": {},
   "source": [
    "-----------------------\n",
    "### Calculating the descriptive statistics of the variables the dataset\n",
    "-----------------------"
   ]
  },
  {
   "cell_type": "code",
   "execution_count": 4,
   "metadata": {},
   "outputs": [
    {
     "name": "stdout",
     "output_type": "stream",
     "text": [
      "(11, 9)\n"
     ]
    }
   ],
   "source": [
    "# First we can get a glimpse of how many examples (rows) and how many attributes (columns) \n",
    "# the Anscombe dataset contains with the shape property:\n",
    "\n",
    "print(dataframe.shape)"
   ]
  },
  {
   "cell_type": "markdown",
   "metadata": {},
   "source": [
    "Thus, we can see from the output above that the Anscombe dataset is comprised of 11 rows and 9 columns"
   ]
  },
  {
   "cell_type": "code",
   "execution_count": 5,
   "metadata": {},
   "outputs": [
    {
     "name": "stdout",
     "output_type": "stream",
     "text": [
      "       Unnamed: 0     x1     x2     x3     x4     y1     y2     y3     y4\n",
      "count       11.00  11.00  11.00  11.00  11.00  11.00  11.00  11.00  11.00\n",
      "mean         6.00   9.00   9.00   9.00   9.00   7.50   7.50   7.50   7.50\n",
      "std          3.32   3.32   3.32   3.32   3.32   2.03   2.03   2.03   2.03\n",
      "min          1.00   4.00   4.00   4.00   8.00   4.26   3.10   5.39   5.25\n",
      "25%          3.50   6.50   6.50   6.50   8.00   6.32   6.70   6.25   6.17\n",
      "50%          6.00   9.00   9.00   9.00   8.00   7.58   8.14   7.11   7.04\n",
      "75%          8.50  11.50  11.50  11.50   8.00   8.57   8.95   7.98   8.19\n",
      "max         11.00  14.00  14.00  14.00  19.00  10.84   9.26  12.74  12.50\n"
     ]
    }
   ],
   "source": [
    "# Next we can take a look at a summary of each Anscombe attribute. This includes the count, mean, min and max values as \n",
    "# well as some percentiles.\n",
    "\n",
    "import numpy as np\n",
    "print(np.round(dataframe.describe(), decimals=2)) # rounds descriptive output to 2 decimals"
   ]
  },
  {
   "cell_type": "markdown",
   "metadata": {},
   "source": [
    "From the descriptive summary statistics table above, we can make a number of key observations.\n",
    "\n",
    "The mean of all X values are identical at 9. The mean of all Y values are also identical at 7.5.\n",
    "The standard deviation of all X values is 3.32, and the standard deviation for all Y values is similar at 2.03.\n",
    "\n",
    "These results reveal almost identical statistical properties, which typically suggests an absence of significance in our data.\n",
    "\n",
    "We can also look at the correlations between the X and Y variables to see, like the summary stats if similarities occur. \n",
    "By running the correlation function, we can infer from the table if the correlation coefficients (r values) between the X and Y values share any strong positive or negative relationships."
   ]
  },
  {
   "cell_type": "code",
   "execution_count": 6,
   "metadata": {},
   "outputs": [
    {
     "name": "stdout",
     "output_type": "stream",
     "text": [
      "            Unnamed: 0     x1     x2     x3     x4     y1     y2     y3     y4\n",
      "Unnamed: 0       1.000 -0.427 -0.427 -0.427  0.200 -0.308 -0.576 -0.430  0.116\n",
      "x1              -0.427  1.000  1.000  1.000 -0.500  0.816  0.816  0.816 -0.314\n",
      "x2              -0.427  1.000  1.000  1.000 -0.500  0.816  0.816  0.816 -0.314\n",
      "x3              -0.427  1.000  1.000  1.000 -0.500  0.816  0.816  0.816 -0.314\n",
      "x4               0.200 -0.500 -0.500 -0.500  1.000 -0.529 -0.718 -0.345  0.817\n",
      "y1              -0.308  0.816  0.816  0.816 -0.529  1.000  0.750  0.469 -0.489\n",
      "y2              -0.576  0.816  0.816  0.816 -0.718  0.750  1.000  0.588 -0.478\n",
      "y3              -0.430  0.816  0.816  0.816 -0.345  0.469  0.588  1.000 -0.155\n",
      "y4               0.116 -0.314 -0.314 -0.314  0.817 -0.489 -0.478 -0.155  1.000\n"
     ]
    }
   ],
   "source": [
    "# Producing a correlation table of the Anscombe data\n",
    "\n",
    "import numpy as np\n",
    "print(np.round(dataframe.corr(), decimals=3)) # produces a neat correlation table to 3 decimals"
   ]
  },
  {
   "cell_type": "markdown",
   "metadata": {},
   "source": [
    "The outputted table shows a large number of negative and positive correlations. Most of these relationships are negative and weak/medium. However, there is a very strong positive relationship between X1 and Y1 with a value of 0.816. What is even more interesting is the fact that this exact value exixts for *all* of the correlations between X2 and Y2, X3 and Y3, and X4 and Y4 (0.817). "
   ]
  },
  {
   "cell_type": "markdown",
   "metadata": {},
   "source": [
    "### Plots of interesting aspects of the dataset\n",
    "\n",
    "Next we can plot the most interesting aspects of Anscombe's datasets. Ansombe performed regression analyses on all four datasets and his plotted results are striking. They immediately tell a story which was hidden in plain sight among the descriptive statistics."
   ]
  },
  {
   "cell_type": "code",
   "execution_count": 24,
   "metadata": {},
   "outputs": [
    {
     "data": {
      "image/png": "[encoded data removed]",
      "text/plain": [
       "<Figure size 576x576 with 4 Axes>"
      ]
     },
     "metadata": {},
     "output_type": "display_data"
    }
   ],
   "source": [
    "# Showing the results of Amscombe's linear regression within each of the 4 datasets\n",
    "\n",
    "# We will use Seaborn to plot the data with 4 regression models on a \"Facet grid\"\n",
    "\n",
    "sns.lmplot(x=\"x\", y=\"y\", col=\"dataset\", hue=\"dataset\", data=df,\n",
    "           col_wrap=2, ci=None, palette=\"bright\", size=4,\n",
    "           scatter_kws={\"s\": 50, \"alpha\": 1})\n",
    "\n",
    "# col, hue: Variables that define subsets of the data, which will be drawn on separate facets in the grid\n",
    "# data: (Dataframe) Tidy dataframe where each column is a variable and each row is an observation.\n",
    "# col_wrap: Wrap” the column variable at this width, so that the column facets span multiple rows. \n",
    "# ci: Size of the confidence interval for the regression estimate.\n",
    "# palette: Colors to use for the different levels of the hue variable. I have chosen \"bright\" from: https://seaborn.pydata.org/tutorial/color_palettes.html \n",
    "# size: Determines the size scale of the ouputted plots.\n",
    "# scatter_kws: Additional keyword argument to pass to plt.scatter and plt.plot. In this case to determine the point qualities\n",
    "# \"s\" determines point size. \"alpha\" is the blending value between 0 (transparent) and 1 (opaque), for the points [4].\n",
    "\n",
    "plt.show()\n"
   ]
  },
  {
   "cell_type": "markdown",
   "metadata": {},
   "source": [
    "## References\n",
    "\n",
    "\n",
    "[1]. Matejka, J., Fitzmaurice, G. (2017). *Same Stats, Different Graphs: Generating Datasets with Varied Appearance and Identical Statistics through Simulated Annealing*. Autodesk Research, Toronto Canada. \n",
    "\n",
    "[2]. Anscombe, F.J. (1973). *Graphs in Statistical Analysis*. The American Statistician 27, 1, 17–21.\n",
    "\n",
    "[3]. (Wikipedia, multiple authors), (2018). *Anscombe's quartet*. Retrieved from: https://en.wikipedia.org/wiki/Anscombe%27s_quartet\n",
    "\n",
    "[4]. Waskom, M. (2018). *seaborn.lmplot\". Retrieved from: https://seaborn.pydata.org/generated/seaborn.lmplot.html"
   ]
  },
  {
   "cell_type": "code",
   "execution_count": null,
   "metadata": {},
   "outputs": [],
   "source": []
  }
 ],
 "metadata": {
  "kernelspec": {
   "display_name": "Python 3",
   "language": "python",
   "name": "python3"
  },
  "language_info": {
   "codemirror_mode": {
    "name": "ipython",
    "version": 3
   },
   "file_extension": ".py",
   "mimetype": "text/x-python",
   "name": "python",
   "nbconvert_exporter": "python",
   "pygments_lexer": "ipython3",
   "version": "3.6.5"
  }
 },
 "nbformat": 4,
 "nbformat_minor": 2
}
